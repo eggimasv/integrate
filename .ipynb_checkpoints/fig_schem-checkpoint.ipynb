{
 "cells": [
  {
   "cell_type": "code",
   "execution_count": 60,
   "metadata": {},
   "outputs": [],
   "source": [
    "import os\n",
    "import csv\n",
    "import numpy as np\n",
    "import pandas as pd\n",
    "from datetime import date\n",
    "import matplotlib.pyplot as plt\n",
    "\n",
    "# load 2015 elec data \n",
    "path_elec_2015 = \"C:/Users/cenv0553/integrate/data/elec_demand_2015.csv\"\n",
    "\n",
    "df_data = pd.read_csv(path_elec_2015)"
   ]
  },
  {
   "cell_type": "code",
   "execution_count": 43,
   "metadata": {},
   "outputs": [],
   "source": [
    "def get_month_from_string(month_string):\n",
    "    \"\"\"Convert string month to int month with Jan == 1\n",
    "\n",
    "    Arguments\n",
    "    ----------\n",
    "    month_string : str\n",
    "        Month given as a string\n",
    "\n",
    "    Returns\n",
    "    --------\n",
    "    month : int\n",
    "        Month as an integer (jan = 1, dez = 12)\n",
    "    \"\"\"\n",
    "    if month_string == 'Jan':\n",
    "        month = 1\n",
    "    elif month_string == 'Feb':\n",
    "        month = 2\n",
    "    elif month_string == 'Mar':\n",
    "        month = 3\n",
    "    elif month_string == 'Apr':\n",
    "        month = 4\n",
    "    elif month_string == 'May':\n",
    "        month = 5\n",
    "    elif month_string == 'Jun':\n",
    "        month = 6\n",
    "    elif month_string == 'Jul':\n",
    "        month = 7\n",
    "    elif month_string == 'Aug':\n",
    "        month = 8\n",
    "    elif month_string == 'Sep':\n",
    "        month = 9\n",
    "    elif month_string == 'Oct':\n",
    "        month = 10\n",
    "    elif month_string == 'Nov':\n",
    "        month = 11\n",
    "    elif month_string == 'Dec':\n",
    "        month = 12\n",
    "\n",
    "    return int(month)"
   ]
  },
  {
   "cell_type": "code",
   "execution_count": 44,
   "metadata": {},
   "outputs": [],
   "source": [
    "def date_to_yearday(year, month, day):\n",
    "    \"\"\"Gets the yearday (julian year day) of a year minus one to correct because of python iteration\n",
    "\n",
    "    Arguments\n",
    "    ----------\n",
    "    date_base_yr : int\n",
    "        Year\n",
    "    date_base_yr : int\n",
    "        Month\n",
    "    day : int\n",
    "        Day\n",
    "\n",
    "    Example\n",
    "    -------\n",
    "    5. January 2015 --> Day nr 5 in year --> -1 because of python --> Out: 4\n",
    "    \"\"\"\n",
    "    date_y = date(year, month, day)\n",
    "    yearday = date_y.timetuple().tm_yday - 1 #: correct because of python iterations\n",
    "\n",
    "    return yearday"
   ]
  },
  {
   "cell_type": "code",
   "execution_count": 45,
   "metadata": {},
   "outputs": [],
   "source": [
    "def mw_to_gwh(megawatt, number_of_hours):\n",
    "    \"\"\"\"Conversion of MW to GWh\n",
    "\n",
    "    Arguments\n",
    "    ---------\n",
    "    kwh : float\n",
    "        Kilowatthours\n",
    "    number_of_hours : float\n",
    "        Number of hours\n",
    "\n",
    "    Return\n",
    "    ------\n",
    "    gwh : float\n",
    "        Gigawatthours\n",
    "\n",
    "    \"\"\"\n",
    "    # Convert MW to MWh\n",
    "    megawatt_hour = megawatt * number_of_hours\n",
    "\n",
    "    # Convert mwth to gwh\n",
    "    gigawatthour = megawatt_hour / 1000.0\n",
    "\n",
    "    return gigawatthour"
   ]
  },
  {
   "cell_type": "code",
   "execution_count": 46,
   "metadata": {},
   "outputs": [],
   "source": [
    "def read_raw_elec_2015(path_to_csv, year=2015):\n",
    "    \"\"\"Read in national electricity values provided\n",
    "    in MW and convert to GWh\n",
    "\n",
    "    Arguments\n",
    "    ---------\n",
    "    path_to_csv : str\n",
    "        Path to csv file\n",
    "    year : int\n",
    "        Year of data\n",
    "\n",
    "    Returns\n",
    "    -------\n",
    "    elec_data_indo : array\n",
    "        Hourly INDO electricity in GWh (INDO - National Demand)\n",
    "    elec_data_itsdo : array\n",
    "        Hourly ITSDO electricity in GWh (Transmission System Demand)\n",
    "\n",
    "    Note\n",
    "    -----\n",
    "    Half hourly measurements are aggregated to hourly values\n",
    "\n",
    "    Necessary data preparation: On 29 March and 25 Octobre\n",
    "    there are 46 and 48 values because of the changing of the clocks\n",
    "    The 25 Octobre value is omitted, the 29 March hour interpolated\n",
    "    in the csv file\n",
    "\n",
    "    Source\n",
    "    ------\n",
    "    http://www2.nationalgrid.com/uk/Industry-information/electricity-transmission-operational-data/\n",
    "    For more information on INDO and ISTDO see DemandData Field Descriptions file:\n",
    "    http://www2.nationalgrid.com/WorkArea/DownloadAsset.aspx?id=8589934632\n",
    "\n",
    "    National Demand is calculated as a sum\n",
    "    of generation based on National Grid\n",
    "    operational generation metering\n",
    "    \"\"\"\n",
    "    elec_data_indo = np.zeros((365, 24), dtype=\"float\")\n",
    "    elec_data_itsdo = np.zeros((365, 24), dtype=\"float\")\n",
    "\n",
    "    with open(path_to_csv, 'r') as csvfile:\n",
    "        read_lines = csv.reader(csvfile, delimiter=',')\n",
    "        _headings = next(read_lines)\n",
    "\n",
    "        hour = 0\n",
    "        counter_half_hour = 0\n",
    "\n",
    "        for line in read_lines:\n",
    "            month = get_month_from_string(line[0].split(\"-\")[1])\n",
    "            day = int(line[0].split(\"-\")[0])\n",
    "\n",
    "            # Get yearday\n",
    "            yearday = date_to_yearday(year, month, day)\n",
    "\n",
    "            if counter_half_hour == 1:\n",
    "                counter_half_hour = 0\n",
    "\n",
    "                # Sum value of first and second half hour\n",
    "                hour_elec_demand_INDO = half_hour_demand_indo + float(line[2])\n",
    "                hour_elec_demand_ITSDO = half_hour_demand_itsdo + float(line[4])\n",
    "\n",
    "                # Convert MW to GWH (input is MW aggregated for two half\n",
    "                # hourly measurements, therfore divide by 0.5)\n",
    "                elec_data_indo[yearday][hour] = mw_to_gwh(hour_elec_demand_INDO, 0.5)\n",
    "                elec_data_itsdo[yearday][hour] = mw_to_gwh(hour_elec_demand_ITSDO, 0.5)\n",
    "\n",
    "                hour += 1\n",
    "            else:\n",
    "                counter_half_hour += 1\n",
    "\n",
    "                half_hour_demand_indo = float(line[2]) # INDO - National Demand\n",
    "                half_hour_demand_itsdo = float(line[4]) # Transmission System Demand\n",
    "\n",
    "            if hour == 24:\n",
    "                hour = 0\n",
    "\n",
    "    return elec_data_indo, elec_data_itsdo"
   ]
  },
  {
   "cell_type": "code",
   "execution_count": 51,
   "metadata": {},
   "outputs": [
    {
     "name": "stdout",
     "output_type": "stream",
     "text": [
      "Shape: (365, 24)\n"
     ]
    }
   ],
   "source": [
    "national_demand, _  = read_raw_elec_2015(path_elec_2015)\n",
    "print(\"Shape: \" + str(national_demand.shape))"
   ]
  },
  {
   "cell_type": "code",
   "execution_count": 57,
   "metadata": {},
   "outputs": [
    {
     "name": "stdout",
     "output_type": "stream",
     "text": [
      "Lenth of dataframe: 8760\n"
     ]
    }
   ],
   "source": [
    "# Convert to dataframe\n",
    "# https://pandas.pydata.org/pandas-docs/stable/reference/api/pandas.DataFrame.plot.line.html\n",
    "hours = range(8760)\n",
    "demand = national_demand.reshape((8760))\n",
    "df = pd.DataFrame(\n",
    "    {'demand': demand},\n",
    "    index=hours)\n",
    "print(\"Lenth of dataframe: \" + str(len(df)))"
   ]
  },
  {
   "cell_type": "code",
   "execution_count": 61,
   "metadata": {},
   "outputs": [
    {
     "data": {
      "image/png": "[encoded data removed]",
      "text/plain": [
       "<Figure size 432x288 with 1 Axes>"
      ]
     },
     "metadata": {
      "needs_background": "light"
     },
     "output_type": "display_data"
    }
   ],
   "source": [
    "# PLot lines df.plot(kind='scatter',x='num_children',y='num_pets',color='red')\n",
    "lines = df.plot.line()\n",
    "plt.show()"
   ]
  },
  {
   "cell_type": "code",
   "execution_count": null,
   "metadata": {},
   "outputs": [],
   "source": []
  }
 ],
 "metadata": {
  "kernelspec": {
   "display_name": "Python 3",
   "language": "python",
   "name": "python3"
  },
  "language_info": {
   "codemirror_mode": {
    "name": "ipython",
    "version": 3
   },
   "file_extension": ".py",
   "mimetype": "text/x-python",
   "name": "python",
   "nbconvert_exporter": "python",
   "pygments_lexer": "ipython3",
   "version": "3.6.4"
  }
 },
 "nbformat": 4,
 "nbformat_minor": 2
}
